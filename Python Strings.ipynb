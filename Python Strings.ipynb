{
 "cells": [
  {
   "cell_type": "markdown",
   "metadata": {},
   "source": [
    "# Python Strings"
   ]
  },
  {
   "cell_type": "markdown",
   "metadata": {},
   "source": [
    "A string is a sequence of characters. It can be any length and can contain any letters, numbers, symbols, and spaces.\n",
    "You will learn how to slice strings, select specific characters from strings, search strings for characters, iterate through strings, and use strings in conditional statements."
   ]
  },
  {
   "cell_type": "markdown",
   "metadata": {},
   "source": [
    "A string can be thought of as a list of characters.\n",
    "Like any other list, each character in a string has an index. \n",
    "We can select specific letters from this string using the index."
   ]
  },
  {
   "cell_type": "code",
   "execution_count": 1,
   "metadata": {},
   "outputs": [
    {
     "data": {
      "text/plain": [
       "'b'"
      ]
     },
     "execution_count": 1,
     "metadata": {},
     "output_type": "execute_result"
    }
   ],
   "source": [
    "favorite_fruit = \"blueberry\"\n",
    "favorite_fruit[0]"
   ]
  },
  {
   "cell_type": "markdown",
   "metadata": {},
   "source": [
    "## Slices of Strings"
   ]
  },
  {
   "cell_type": "markdown",
   "metadata": {},
   "source": [
    "Not only can we select a single character from a string, we can select entire chunks of characters from a string. We can do this with the following syntax:\n",
    "\n",
    "string_name[first_index:last_index]\n",
    "\n",
    "This is called slicing a string. When we slice a string we are creating a new string that starts at (and includes) the first_index and ends at (but excludes) the last_index.\n",
    "We can also have open-ended selections. If we remove the first index, the slice starts at the beginning of the string and if we remove the second index the slice continues to the end of the string."
   ]
  },
  {
   "cell_type": "code",
   "execution_count": 3,
   "metadata": {},
   "outputs": [],
   "source": [
    "first_name = \"Rodrigo\"\n",
    "last_name = \"Villanueva\"\n",
    "\n",
    "new_account = last_name[:5]\n",
    "temp_password = last_name[2:6]"
   ]
  },
  {
   "cell_type": "markdown",
   "metadata": {},
   "source": [
    "# Concatenating Strings"
   ]
  },
  {
   "cell_type": "markdown",
   "metadata": {},
   "source": [
    "You can also concatenate two existing strings together into a new string.\n",
    "new_string = old1 + old2"
   ]
  },
  {
   "cell_type": "markdown",
   "metadata": {},
   "source": [
    "Python comes with some built-in functions for working with strings. One of the most commonly used of these functions is len(). len() returns the number of characters in a string\n",
    "Using a len() statement as the starting index and omitting the final index lets you slice n characters from the end of a string where n is the amount you subtract from len()."
   ]
  },
  {
   "cell_type": "markdown",
   "metadata": {},
   "source": [
    "Write a function called password_generator that takes two inputs, first_name and last_name and then concatenate the last three letters of each and returns them as a string."
   ]
  },
  {
   "cell_type": "code",
   "execution_count": 2,
   "metadata": {},
   "outputs": [
    {
     "name": "stdout",
     "output_type": "stream",
     "text": [
      "ikouki\n"
     ]
    }
   ],
   "source": [
    "first_name = \"Reiko\"\n",
    "last_name = \"Matsuki\"\n",
    "\n",
    "def password_generator(first_name, last_name):\n",
    "  return first_name[len(first_name) - 3:] + last_name[len(last_name) - 3:]\n",
    "  \n",
    "temp_password = password_generator(first_name, last_name)\n",
    "print(temp_password)"
   ]
  },
  {
   "cell_type": "markdown",
   "metadata": {},
   "source": [
    "# Negative Indices"
   ]
  },
  {
   "cell_type": "markdown",
   "metadata": {},
   "source": [
    "In the previous exercise, we used len() to get a slice of characters at the end of a string.\n",
    "\n",
    "There’s a much easier way to do this, we can use negative indices! Negative indices count backward from the end of the string, so string_name[-1] is the last character of the string, string_name[-2] is the second last character of the string, etc."
   ]
  },
  {
   "cell_type": "code",
   "execution_count": null,
   "metadata": {},
   "outputs": [],
   "source": [
    "temp_password = first_name[-3] + last_name[-3]"
   ]
  },
  {
   "cell_type": "markdown",
   "metadata": {},
   "source": [
    "# Strings are Immutable"
   ]
  },
  {
   "cell_type": "markdown",
   "metadata": {},
   "source": [
    "We must remember that strings are <b>immutable</b>. This means that we cannot change a string once it is created. We can use it to create other strings, but we cannot change the string itself.\n",
    "\n",
    "This property, generally, is known as <b>mutability</b>. Data types that are <b>mutable</b> can be changed, and data types, like strings, that are <b>immutable</b> cannot be changed.\n",
    "\n",
    "So if we need to change something inside of a string, we must concatenate what we want changed with the remainder of the original string.\n",
    "\n",
    "For example in the code below we needed to change \"Bob\" to \"Rob\". So we must do it like so:"
   ]
  },
  {
   "cell_type": "code",
   "execution_count": 4,
   "metadata": {},
   "outputs": [
    {
     "name": "stdout",
     "output_type": "stream",
     "text": [
      "Rob\n"
     ]
    }
   ],
   "source": [
    "first_name = \"Bob\"\n",
    "last_name = \"Daily\"\n",
    "\n",
    "fixed_first_name = \"R\" + first_name[1:]\n",
    "print(fixed_first_name)"
   ]
  },
  {
   "cell_type": "markdown",
   "metadata": {},
   "source": [
    "# Escape Characters"
   ]
  },
  {
   "cell_type": "markdown",
   "metadata": {},
   "source": [
    "Occasionally when working with strings, you’ll find that you want to include characters that already have a special meaning in python. For example let’s say I create the string:\n",
    "\n",
    "favorite_fruit_conversation = \"He said, \"blueberries are my favorite!\"\"\n",
    "\n",
    "We’ll have accidentally ended the string before we wanted to by including the \" character. The way we can do this is by introducing escape characters. By adding a backslash in front of the special character we want to escape, \\\", we can include it in a string.\n",
    "\n",
    "favorite_fruit_conversation = \"He said, \\ \"blueberries are my favorite! \\ \"\"\n",
    "\n",
    "Now it works!"
   ]
  },
  {
   "cell_type": "markdown",
   "metadata": {},
   "source": [
    "# Iterating through Strings"
   ]
  },
  {
   "cell_type": "markdown",
   "metadata": {},
   "source": [
    "Because strings are lists, that means we can iterate through a string using for or while loops. This opens up a whole range of possibilities of ways we can manipulate and analyze strings. Let’s take a look at an example.\n",
    "\n",
    "def print_each_letter(word):\n",
    "  for letter in word:\n",
    "    print(letter)\n",
    "    \n",
    "This code will iterate through each letter in a given word and will print it to the terminal.    "
   ]
  },
  {
   "cell_type": "code",
   "execution_count": null,
   "metadata": {},
   "outputs": [],
   "source": [
    "def get_length(string):\n",
    "  length = 0\n",
    "  for n in string:\n",
    "    length += 1\n",
    "  return length"
   ]
  },
  {
   "cell_type": "markdown",
   "metadata": {},
   "source": [
    "^ The above code basically replaces the function of len() when called with a string!"
   ]
  },
  {
   "cell_type": "markdown",
   "metadata": {},
   "source": [
    "# Strings and Conditionals"
   ]
  },
  {
   "cell_type": "markdown",
   "metadata": {},
   "source": [
    "When we iterate through a string we do something with each character. By including conditional statements inside of these iterations, we can start to do some really cool stuff.\n",
    "\n",
    "Example:"
   ]
  },
  {
   "cell_type": "code",
   "execution_count": 5,
   "metadata": {},
   "outputs": [
    {
     "name": "stdout",
     "output_type": "stream",
     "text": [
      "2\n"
     ]
    }
   ],
   "source": [
    "favorite_fruit = \"blueberry\"\n",
    "counter = 0\n",
    "for character in favorite_fruit:\n",
    "  if character == \"b\":\n",
    "    counter = counter + 1\n",
    "print(counter)"
   ]
  },
  {
   "cell_type": "markdown",
   "metadata": {},
   "source": [
    "This code will count the number of bs in the string “blueberry” (hint: it’s two). Let’s take a moment and break down what exactly this code is doing.\n",
    "\n",
    "First, we define our string, favorite_fruit, and a variable called counter, which we set equal to zero. Then the for loop will iterate through each character in favorite_fruit and compare it to the letter b.\n",
    "\n",
    "Each time a character equals b the code will increase the variable counter by one. Then, once all characters have been checked, the code will print the counter, telling us how many bs were in “blueberry”. This is a great example of how iterating through a string can be used to solve a specific application, in this case counting a certain letter in a word."
   ]
  },
  {
   "cell_type": "markdown",
   "metadata": {},
   "source": [
    "There’s an even easier way than iterating through the entire string to determine if a character is in a string. We can do this type of check more efficiently using <b>in</b>. <b>in</b> checks if one string is part of another string.\n",
    "\n",
    "Here is what the syntax of in looks like:\n",
    "letter in word"
   ]
  },
  {
   "cell_type": "code",
   "execution_count": 7,
   "metadata": {},
   "outputs": [
    {
     "data": {
      "text/plain": [
       "True"
      ]
     },
     "execution_count": 7,
     "metadata": {},
     "output_type": "execute_result"
    }
   ],
   "source": [
    "\"e\" in \"blueberry\""
   ]
  },
  {
   "cell_type": "markdown",
   "metadata": {},
   "source": [
    "This works not only with letters, but with entire strings as well."
   ]
  },
  {
   "cell_type": "code",
   "execution_count": 8,
   "metadata": {
    "scrolled": true
   },
   "outputs": [
    {
     "data": {
      "text/plain": [
       "False"
      ]
     },
     "execution_count": 8,
     "metadata": {},
     "output_type": "execute_result"
    }
   ],
   "source": [
    "\"blue\" in \"blueberry\"\n",
    "\"blue\" in \"strawberry\""
   ]
  },
  {
   "cell_type": "markdown",
   "metadata": {},
   "source": [
    "Let's write a function called common_letters that takes two arguments, string_one and string_two and then returns a list with all of the letters they have in common."
   ]
  },
  {
   "cell_type": "code",
   "execution_count": 9,
   "metadata": {},
   "outputs": [
    {
     "name": "stdout",
     "output_type": "stream",
     "text": [
      "['p', 'i', 'n', 'e']\n"
     ]
    }
   ],
   "source": [
    "def contains(big_string, little_string):\n",
    "  if little_string in big_string:\n",
    "    return True\n",
    "  else:\n",
    "    return False\n",
    "  \n",
    "  \n",
    "def common_letters(string_one, string_two):\n",
    "  shared = []\n",
    "  for l in string_one:\n",
    "    if l in string_two and not l in shared:\n",
    "      shared.append(l)\n",
    "  return shared\n",
    "    \n",
    "print(common_letters('pineapple', 'pinecone'))"
   ]
  },
  {
   "cell_type": "code",
   "execution_count": 10,
   "metadata": {},
   "outputs": [
    {
     "name": "stdout",
     "output_type": "stream",
     "text": [
      "lTomGil\n"
     ]
    }
   ],
   "source": [
    "def username_generator(first_name, last_name):\n",
    "  username = first_name[:3] + last_name[:4]\n",
    "  return username\n",
    "\n",
    "def password_generator(username):\n",
    "  password = \"\"\n",
    "  length = range(0, len(username))  \n",
    "  for index in length:\n",
    "    password += username[index - 1]\n",
    "  return password\n",
    "\n",
    "print(password_generator(\"TomGill\"))"
   ]
  },
  {
   "cell_type": "code",
   "execution_count": null,
   "metadata": {},
   "outputs": [],
   "source": []
  }
 ],
 "metadata": {
  "kernelspec": {
   "display_name": "Python 3",
   "language": "python",
   "name": "python3"
  },
  "language_info": {
   "codemirror_mode": {
    "name": "ipython",
    "version": 3
   },
   "file_extension": ".py",
   "mimetype": "text/x-python",
   "name": "python",
   "nbconvert_exporter": "python",
   "pygments_lexer": "ipython3",
   "version": "3.7.4"
  }
 },
 "nbformat": 4,
 "nbformat_minor": 2
}
